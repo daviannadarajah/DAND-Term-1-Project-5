{
 "cells": [
  {
   "cell_type": "markdown",
   "metadata": {},
   "source": [
    "### Analyzing the Stroop Effect\n",
    "Perform the analysis in the space below. Remember to follow [the instructions](https://docs.google.com/document/d/1-OkpZLjG_kX9J6LIQ5IltsqMzVWjh36QpnP2RYpVdPU/pub?embedded=True) and review the [project rubric](https://review.udacity.com/#!/rubrics/71/view) before submitting. Once you've completed the analysis and write-up, download this file as a PDF or HTML file, upload that PDF/HTML into the workspace here (click on the orange Jupyter icon in the upper left then Upload), then use the Submit Project button at the bottom of this page. This will create a zip file containing both this .ipynb doc and the PDF/HTML doc that will be submitted for your project.\n",
    "\n",
    "\n",
    "#### (1) What is the independent variable? What is the dependent variable?"
   ]
  },
  {
   "cell_type": "markdown",
   "metadata": {},
   "source": [
    "The independent variable is the congruent or incongruent condition. The dependent variable is the time to complete the test for each respective condition. "
   ]
  },
  {
   "cell_type": "markdown",
   "metadata": {},
   "source": [
    "#### (2) What is an appropriate set of hypotheses for this task? Specify your null and alternative hypotheses, and clearly define any notation used. What kind of statistical test do you expect to perform? Justify your choices."
   ]
  },
  {
   "cell_type": "markdown",
   "metadata": {},
   "source": [
    "Null hypothesis (H0): There is no significant difference in the mean completion times between the congruent and incongruent tests.\n",
    "\n",
    "Alternative hypthothesis (H1): There is a significant difference in the mean completion times between the congruent and incongruent tests. \n",
    "\n",
    "While I have done the tests and took longer to complete the incongruent set of words, I don't want to make assumptions yet about the incongruent test. Therefore I have just said the completion time will just be different (could be greater or less than the congruent test). Therefore I am stating my null and alternative hypothesis as:\n",
    "\n",
    "<br>\n",
    "$$H_0: \\mu_c = \\mu_i$$\n",
    "\n",
    "$$H_1: \\mu_c \\neq \\mu_i$$\n",
    "\n",
    "<br>\n",
    "\n",
    "\n",
    "The statistical test i would expect to perform is a two-tail dependent sample (or paired sample) t-test. Firstly, we do not have any population parameters provided. Secondly, the same set of people in the sample are subjected to the two different test conditions - congruent and incogruent words."
   ]
  },
  {
   "cell_type": "markdown",
   "metadata": {},
   "source": [
    "#### (3) Report some descriptive statistics regarding this dataset. Include at least one measure of central tendency and at least one measure of variability. The name of the data file is 'stroopdata.csv'."
   ]
  },
  {
   "cell_type": "code",
   "execution_count": 1,
   "metadata": {},
   "outputs": [
    {
     "data": {
      "text/html": [
       "<div>\n",
       "<style scoped>\n",
       "    .dataframe tbody tr th:only-of-type {\n",
       "        vertical-align: middle;\n",
       "    }\n",
       "\n",
       "    .dataframe tbody tr th {\n",
       "        vertical-align: top;\n",
       "    }\n",
       "\n",
       "    .dataframe thead th {\n",
       "        text-align: right;\n",
       "    }\n",
       "</style>\n",
       "<table border=\"1\" class=\"dataframe\">\n",
       "  <thead>\n",
       "    <tr style=\"text-align: right;\">\n",
       "      <th></th>\n",
       "      <th>Congruent</th>\n",
       "      <th>Incongruent</th>\n",
       "    </tr>\n",
       "  </thead>\n",
       "  <tbody>\n",
       "    <tr>\n",
       "      <th>0</th>\n",
       "      <td>12.079</td>\n",
       "      <td>19.278</td>\n",
       "    </tr>\n",
       "    <tr>\n",
       "      <th>1</th>\n",
       "      <td>16.791</td>\n",
       "      <td>18.741</td>\n",
       "    </tr>\n",
       "    <tr>\n",
       "      <th>2</th>\n",
       "      <td>9.564</td>\n",
       "      <td>21.214</td>\n",
       "    </tr>\n",
       "    <tr>\n",
       "      <th>3</th>\n",
       "      <td>8.630</td>\n",
       "      <td>15.687</td>\n",
       "    </tr>\n",
       "    <tr>\n",
       "      <th>4</th>\n",
       "      <td>14.669</td>\n",
       "      <td>22.803</td>\n",
       "    </tr>\n",
       "  </tbody>\n",
       "</table>\n",
       "</div>"
      ],
      "text/plain": [
       "   Congruent  Incongruent\n",
       "0     12.079       19.278\n",
       "1     16.791       18.741\n",
       "2      9.564       21.214\n",
       "3      8.630       15.687\n",
       "4     14.669       22.803"
      ]
     },
     "execution_count": 1,
     "metadata": {},
     "output_type": "execute_result"
    }
   ],
   "source": [
    "# Import libraries\n",
    "import pandas as pd\n",
    "import matplotlib.pyplot as plt\n",
    "import numpy as np\n",
    "from scipy import stats\n",
    "import math \n",
    "import seaborn as sns\n",
    "from matplotlib import pyplot\n",
    "\n",
    "\n",
    "# Enable visualisations within Jupyter notebook\n",
    "% matplotlib inline\n",
    "\n",
    "df = pd.read_csv('stroopdata.csv')\n",
    "df.head()"
   ]
  },
  {
   "cell_type": "code",
   "execution_count": 2,
   "metadata": {},
   "outputs": [
    {
     "data": {
      "text/html": [
       "<div>\n",
       "<style scoped>\n",
       "    .dataframe tbody tr th:only-of-type {\n",
       "        vertical-align: middle;\n",
       "    }\n",
       "\n",
       "    .dataframe tbody tr th {\n",
       "        vertical-align: top;\n",
       "    }\n",
       "\n",
       "    .dataframe thead th {\n",
       "        text-align: right;\n",
       "    }\n",
       "</style>\n",
       "<table border=\"1\" class=\"dataframe\">\n",
       "  <thead>\n",
       "    <tr style=\"text-align: right;\">\n",
       "      <th></th>\n",
       "      <th>Congruent</th>\n",
       "      <th>Incongruent</th>\n",
       "    </tr>\n",
       "  </thead>\n",
       "  <tbody>\n",
       "    <tr>\n",
       "      <th>count</th>\n",
       "      <td>24.000000</td>\n",
       "      <td>24.000000</td>\n",
       "    </tr>\n",
       "    <tr>\n",
       "      <th>mean</th>\n",
       "      <td>14.051125</td>\n",
       "      <td>22.015917</td>\n",
       "    </tr>\n",
       "    <tr>\n",
       "      <th>std</th>\n",
       "      <td>3.559358</td>\n",
       "      <td>4.797057</td>\n",
       "    </tr>\n",
       "    <tr>\n",
       "      <th>min</th>\n",
       "      <td>8.630000</td>\n",
       "      <td>15.687000</td>\n",
       "    </tr>\n",
       "    <tr>\n",
       "      <th>25%</th>\n",
       "      <td>11.895250</td>\n",
       "      <td>18.716750</td>\n",
       "    </tr>\n",
       "    <tr>\n",
       "      <th>50%</th>\n",
       "      <td>14.356500</td>\n",
       "      <td>21.017500</td>\n",
       "    </tr>\n",
       "    <tr>\n",
       "      <th>75%</th>\n",
       "      <td>16.200750</td>\n",
       "      <td>24.051500</td>\n",
       "    </tr>\n",
       "    <tr>\n",
       "      <th>max</th>\n",
       "      <td>22.328000</td>\n",
       "      <td>35.255000</td>\n",
       "    </tr>\n",
       "  </tbody>\n",
       "</table>\n",
       "</div>"
      ],
      "text/plain": [
       "       Congruent  Incongruent\n",
       "count  24.000000    24.000000\n",
       "mean   14.051125    22.015917\n",
       "std     3.559358     4.797057\n",
       "min     8.630000    15.687000\n",
       "25%    11.895250    18.716750\n",
       "50%    14.356500    21.017500\n",
       "75%    16.200750    24.051500\n",
       "max    22.328000    35.255000"
      ]
     },
     "execution_count": 2,
     "metadata": {},
     "output_type": "execute_result"
    }
   ],
   "source": [
    "# descriptive statistics\n",
    "df.describe()"
   ]
  },
  {
   "cell_type": "markdown",
   "metadata": {},
   "source": [
    "#### Observations - Descriptive Statistics\n",
    "1. The sample size is 24 for both the congruent and incongruent test.\n",
    "2. The mean time of the congruent test was about 14.051 whereas the incongruent test is higher with approximately 22.016. \n",
    "3. The median for the congruent test is around 14.357 and the incongruent test is roughly 21.018. \n",
    "4. Both the mean and median results indicate that the incongruent test took longer to complete than the congruent test (mean diff = 7.965 and median diff = 6.661).\n",
    "5. The standard deviation for the time taken on the congruent test (3.559) is smaller than the incongruent test (4.797). This means the incongruent test results are more spread out from the mean than the congruent test."
   ]
  },
  {
   "cell_type": "markdown",
   "metadata": {},
   "source": [
    "#### (4) Provide one or two visualizations that show the distribution of the sample data. Write one or two sentences noting what you observe about the plot or plots."
   ]
  },
  {
   "cell_type": "code",
   "execution_count": 15,
   "metadata": {},
   "outputs": [
    {
     "data": {
      "image/png": "[encoded data removed]",
      "text/plain": [
       "<Figure size 576x576 with 1 Axes>"
      ]
     },
     "metadata": {},
     "output_type": "display_data"
    }
   ],
   "source": [
    "# Build the visualizations here\n",
    "#df.hist(figsize = (10,6))\n",
    "# Plot using Seaborn\n",
    "dims = (8, 8)\n",
    "pyplot.subplots(figsize=dims)\n",
    "x = df['Congruent']\n",
    "y = df['Incongruent']\n",
    "ax=plt.hist([x, y], color=['r','b'], alpha=0.5)  #https://stackoverflow.com/questions/36362624/how-to-plot-multiple-histograms-on-same-plot-with-seaborn\n",
    "\n",
    "# Set chart title and axis descriptions\n",
    "plt.title('Congruent vs Incongruent test results')\n",
    "plt.xlabel('Completion time')\n",
    "plt.ylabel('Frequency')\n",
    "\n",
    "plt.xticks(fontsize=14)  \n",
    "plt.yticks(fontsize=14)\n",
    "\n",
    "labels= [\"Congruent\",\"Incongruent\"]  #https://stackoverflow.com/questions/43872450/matplotlib-histogram-with-legend\n",
    "plt.legend(labels)\n",
    "\n",
    "\n",
    "plt.show()"
   ]
  },
  {
   "cell_type": "markdown",
   "metadata": {},
   "source": [
    "#### Observations\n",
    "\n",
    "There is a slight overlap in completion times for both congruent and incongruent tests. However, the completion times for the incongruent list of words (purple bars) is generally longer than the congruent list of words (pink bars)."
   ]
  },
  {
   "cell_type": "markdown",
   "metadata": {},
   "source": [
    "#### (5)  Now, perform the statistical test and report your results. What is your confidence level or Type I error associated with your test? What is your conclusion regarding the hypotheses you set up? Did the results match up with your expectations? **Hint:**  Think about what is being measured on each individual, and what statistic best captures how an individual reacts in each environment."
   ]
  },
  {
   "cell_type": "code",
   "execution_count": 4,
   "metadata": {},
   "outputs": [
    {
     "name": "stdout",
     "output_type": "stream",
     "text": [
      "Mean differences is: -7.964791666666665\n",
      "Sample size: 24\n",
      "Degrees of freedom: 23\n",
      "std of mean differences: 4.864826910359056\n",
      "SEM:  0.9930286347783406\n",
      "t-statistic is: -8.020706944109955\n",
      "t-critical value (two-tail 95%): +/-2.068657610419041\n",
      "4.103000585711186e-08\n"
     ]
    },
    {
     "data": {
      "text/plain": [
       "Ttest_relResult(statistic=-8.020706944109957, pvalue=4.103000585711178e-08)"
      ]
     },
     "execution_count": 4,
     "metadata": {},
     "output_type": "execute_result"
    }
   ],
   "source": [
    "# Calculate mean differences\n",
    "cong_mean = df['Congruent'].mean()\n",
    "incong_mean = df['Incongruent'].mean()\n",
    "mean_diff = cong_mean - incong_mean\n",
    "print(\"Mean differences is: \" + str(mean_diff))\n",
    "\n",
    "# Calculate sample size (n)\n",
    "n = df.shape[0]\n",
    "print(\"Sample size: \" + str(n))\n",
    "print(\"Degrees of freedom: \" + str(n - 1))\n",
    "\n",
    "# Calculate the standard deviation of differences\n",
    "df['Diff'] = df['Congruent'] - df['Incongruent']\n",
    "std = df['Diff'].std(ddof=1)  #http://pandas.pydata.org/pandas-docs/stable/generated/pandas.DataFrame.std.html\n",
    "print(\"std of mean differences: \" + str(std))\n",
    "\n",
    "# Calculate the Standard Error Mean (SEM)\n",
    "SEM = std/math.sqrt(n)  #https://stackoverflow.com/questions/9595135/how-do-i-calculate-square-root-in-python\n",
    "print(\"SEM:  \" + str(SEM))\n",
    "\n",
    "# Calculate t-statistic\n",
    "tstat = mean_diff / SEM\n",
    "print(\"t-statistic is: \" + str(tstat))\n",
    "\n",
    "# Calculate t-critical\n",
    "tcrit = stats.t.isf(0.025, n-1) #https://docs.scipy.org/doc/scipy/reference/tutorial/stats.html\n",
    "print(\"t-critical value (two-tail 95%): +/-\" + str(tcrit))\n",
    "\n",
    "# p-value\n",
    "pval = stats.t.sf(np.abs(tstat), n-1)*2 # two-sided pvalue\n",
    "print(pval)\n",
    "\n",
    "# Calculate p-value check\n",
    "# https://towardsdatascience.com/inferential-statistics-series-t-test-using-numpy-2718f8f9bf2f\n",
    "stats.ttest_rel(df['Congruent'], df['Incongruent'])  #check: https://docs.scipy.org/doc/scipy/reference/generated/scipy.stats.ttest_rel.html\n"
   ]
  },
  {
   "cell_type": "code",
   "execution_count": 5,
   "metadata": {},
   "outputs": [],
   "source": [
    "# Perform the statistical test here\n",
    "\n",
    "\n",
    "\n",
    "#https://github.com/abodacs/Test-a-Perceptual-Phenomenon/blob/master/Test%20a%20Perceptual%20Phenomenon.ipynb\n",
    "#    https://github.com/j450h1/P1-Test-a-Perceptual-Phenomenon/blob/master/Project%20Questions.ipynb\n",
    "#        https://github.com/BullyBear/Testing-A-Perceptual-Phenomenon/blob/master/Testing%20A%20Perceptual%20Phenomenon.pdf\n",
    "#            https://github.com/eminnett/da-nanodegree-test-a-perceptual-phenomenon/blob/master/test_a_perceptual_phenomenon.ipynb\n",
    "#                https://github.com/gdtm86/testing-perceptual-phenomenon/blob/master/P1-Statistics-Stroop-Effect-Results-v3.pdf\n",
    "                   \n"
   ]
  },
  {
   "cell_type": "markdown",
   "metadata": {},
   "source": [
    "--write answer here--"
   ]
  },
  {
   "cell_type": "markdown",
   "metadata": {},
   "source": [
    "(6) Optional: What do you think is responsible for the effects observed? Can you think of an alternative or similar task that would result in a similar effect? Some research about the problem will be helpful for thinking about these two questions!"
   ]
  },
  {
   "cell_type": "markdown",
   "metadata": {},
   "source": [
    "--write answer here--"
   ]
  }
 ],
 "metadata": {
  "kernelspec": {
   "display_name": "Python [default]",
   "language": "python",
   "name": "python3"
  },
  "language_info": {
   "codemirror_mode": {
    "name": "ipython",
    "version": 3
   },
   "file_extension": ".py",
   "mimetype": "text/x-python",
   "name": "python",
   "nbconvert_exporter": "python",
   "pygments_lexer": "ipython3",
   "version": "3.6.4"
  }
 },
 "nbformat": 4,
 "nbformat_minor": 2
}
